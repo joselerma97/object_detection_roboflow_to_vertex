{
 "cells": [
  {
   "cell_type": "code",
   "outputs": [],
   "source": [
    "def get_box_annotation(class_name, center_x, center_y, width, height):\n",
    "    box = dict()\n",
    "    box[\"displayName\"] = class_name\n",
    "    box[\"xMin\"] = center_x - width / 2\n",
    "    box[\"xMax\"] = center_x + width / 2\n",
    "    box[\"yMin\"] = center_y - height / 2\n",
    "    box[\"yMax\"] = center_y + height / 2\n",
    "    return box"
   ],
   "metadata": {
    "collapsed": false,
    "ExecuteTime": {
     "end_time": "2024-02-26T22:24:57.504664Z",
     "start_time": "2024-02-26T22:24:57.485741Z"
    }
   },
   "id": "5e97c87f244d86ad",
   "execution_count": 1
  },
  {
   "cell_type": "code",
   "outputs": [],
   "source": [
    "class_traductor = {0: \"biodegradable\",\n",
    "                   1: \"clothes\",\n",
    "                   2: \"electronic\",\n",
    "                   3: \"glass\",\n",
    "                   4: \"paper\",\n",
    "                   5: \"plastic\"}"
   ],
   "metadata": {
    "collapsed": false,
    "ExecuteTime": {
     "end_time": "2024-02-26T22:26:48.044205Z",
     "start_time": "2024-02-26T22:26:48.025666Z"
    }
   },
   "id": "224630b0b5176153",
   "execution_count": 2
  },
  {
   "cell_type": "code",
   "outputs": [],
   "source": [
    "folders = [(\"test\", \"test\"),\n",
    "           (\"train\", \"training\"),\n",
    "           (\"valid\", \"validation\")]"
   ],
   "metadata": {
    "collapsed": false,
    "ExecuteTime": {
     "end_time": "2024-02-26T22:44:18.330916Z",
     "start_time": "2024-02-26T22:44:18.317779Z"
    }
   },
   "id": "8292b55b1e2969b3",
   "execution_count": 9
  },
  {
   "cell_type": "code",
   "outputs": [],
   "source": [
    "import os\n",
    "\n",
    "json_list = []\n",
    "\n",
    "for folder, vertex_type in folders:\n",
    "    root = \"Waste_Detection-1\"\n",
    "    files_in_directory = os.listdir(f\"{root}/{folder}/images/\")\n",
    "    for file in files_in_directory:\n",
    "        vertex_dic = dict()\n",
    "        img = file\n",
    "        label_name = \".\".join(img.split(\".\")[:-1]) + \".txt\"\n",
    "        label = f\"{root}/{folder}/labels/{label_name}\"\n",
    "        \n",
    "        vertex_dic[\"imageGcsUri\"] = f\"gs://cloud-ai-platform-4f807e4a-a411-472d-8205-9769f14f21ef/cv/{img}\"\n",
    "        \n",
    "        box_annotations = []\n",
    "        with open(label, 'r') as file_label:\n",
    "            for line in file_label:\n",
    "                label_info = line.strip().split(\" \")\n",
    "                box_annotations.append(get_box_annotation(\n",
    "                    class_traductor[ int(label_info[0]) ], \n",
    "                    float(label_info[1]),\n",
    "                    float(label_info[2]),\n",
    "                    float(label_info[3]), \n",
    "                    float(label_info[4])\n",
    "            ))\n",
    "        vertex_dic[\"boundingBoxAnnotations\"] = box_annotations\n",
    "        vertex_dic[\"dataItemResourceLabels\"] = {\"aiplatform.googleapis.com/ml_use\": vertex_type}\n",
    "        \n",
    "        json_list.append(vertex_dic)\n",
    "        "
   ],
   "metadata": {
    "collapsed": false,
    "ExecuteTime": {
     "end_time": "2024-02-26T22:53:20.183191Z",
     "start_time": "2024-02-26T22:53:06.627806Z"
    }
   },
   "id": "5e06387d30adbf1f",
   "execution_count": 17
  },
  {
   "cell_type": "code",
   "outputs": [
    {
     "data": {
      "text/plain": "1473"
     },
     "execution_count": 18,
     "metadata": {},
     "output_type": "execute_result"
    }
   ],
   "source": [
    "len(json_list)"
   ],
   "metadata": {
    "collapsed": false,
    "ExecuteTime": {
     "end_time": "2024-02-26T22:53:33.704747Z",
     "start_time": "2024-02-26T22:53:33.691964Z"
    }
   },
   "id": "eea9a4fdf08f2a16",
   "execution_count": 18
  },
  {
   "cell_type": "code",
   "outputs": [],
   "source": [
    "import json\n",
    "with open(\"img_labels.jsonl\", 'w') as file:\n",
    "    for entry in json_list:\n",
    "        json_line = json.dumps(entry)\n",
    "        file.write(json_line + '\\n')"
   ],
   "metadata": {
    "collapsed": false,
    "ExecuteTime": {
     "end_time": "2024-02-26T22:53:37.116999Z",
     "start_time": "2024-02-26T22:53:37.045521Z"
    }
   },
   "id": "8da2d304a49479a3",
   "execution_count": 19
  }
 ],
 "metadata": {
  "kernelspec": {
   "display_name": "Python 3",
   "language": "python",
   "name": "python3"
  },
  "language_info": {
   "codemirror_mode": {
    "name": "ipython",
    "version": 2
   },
   "file_extension": ".py",
   "mimetype": "text/x-python",
   "name": "python",
   "nbconvert_exporter": "python",
   "pygments_lexer": "ipython2",
   "version": "2.7.6"
  }
 },
 "nbformat": 4,
 "nbformat_minor": 5
}
