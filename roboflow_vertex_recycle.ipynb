{
 "cells": [
  {
   "cell_type": "code",
   "outputs": [
    {
     "name": "stdout",
     "output_type": "stream",
     "text": [
      "loading Roboflow workspace...\n",
      "loading Roboflow project...\n",
      "[WARNING] we noticed you are downloading a `yolov8` datasets but you don't have `ultralytics` installed. Roboflow `.deploy` supports only models trained with `ultralytics==8.0.196`, to intall it `pip install ultralytics==8.0.196`.\n"
     ]
    },
    {
     "name": "stderr",
     "output_type": "stream",
     "text": [
      "Downloading Dataset Version Zip in recycle-22 to yolov8:: 100%|██████████| 381236/381236 [00:16<00:00, 22496.73it/s]"
     ]
    },
    {
     "name": "stdout",
     "output_type": "stream",
     "text": []
    },
    {
     "name": "stderr",
     "output_type": "stream",
     "text": [
      "\n",
      "Extracting Dataset Version Zip to recycle-22 in yolov8:: 100%|██████████| 33972/33972 [00:15<00:00, 2159.32it/s]\n"
     ]
    }
   ],
   "source": [
    "from roboflow import Roboflow\n",
    "rf = Roboflow(api_key=\"0F7R4oSupQ5U1ctpBlrv\")\n",
    "project = rf.workspace(\"recycle-sx0ka\").project(\"recycle-trnfc\")\n",
    "dataset = project.version(22).download(\"yolov8\")"
   ],
   "metadata": {
    "collapsed": false,
    "ExecuteTime": {
     "end_time": "2024-02-27T09:38:09.095054Z",
     "start_time": "2024-02-27T09:37:31.196153Z"
    }
   },
   "id": "599d70d71d1709e1",
   "execution_count": 7
  },
  {
   "cell_type": "code",
   "outputs": [],
   "source": [
    "def get_box_annotation(class_name, center_x, center_y, width, height):\n",
    "    box = dict()\n",
    "    box[\"displayName\"] = class_name\n",
    "    box[\"xMin\"] = round(center_x - width / 2, 5)\n",
    "    box[\"xMax\"] = round(center_x + width / 2, 5)\n",
    "    box[\"yMin\"] = round(center_y - height / 2, 5)\n",
    "    box[\"yMax\"] = round(center_y + height / 2, 5)\n",
    "    return box"
   ],
   "metadata": {
    "collapsed": false,
    "ExecuteTime": {
     "end_time": "2024-02-27T09:45:43.391960Z",
     "start_time": "2024-02-27T09:45:43.374965Z"
    }
   },
   "id": "5e97c87f244d86ad",
   "execution_count": 14
  },
  {
   "cell_type": "code",
   "outputs": [],
   "source": [
    "class_traductor = {0: \"Can\",\n",
    "                   1: \"Glass\",\n",
    "                   2: \"Plastic\",\n",
    "                   3: \"glass\"}"
   ],
   "metadata": {
    "collapsed": false,
    "ExecuteTime": {
     "end_time": "2024-02-27T09:45:45.199578Z",
     "start_time": "2024-02-27T09:45:45.181646Z"
    }
   },
   "id": "224630b0b5176153",
   "execution_count": 15
  },
  {
   "cell_type": "code",
   "outputs": [],
   "source": [
    "folders = [(\"test\", \"test\"),\n",
    "           (\"train\", \"training\"),\n",
    "           (\"valid\", \"validation\")]"
   ],
   "metadata": {
    "collapsed": false,
    "ExecuteTime": {
     "end_time": "2024-02-27T09:45:46.423958Z",
     "start_time": "2024-02-27T09:45:46.404445Z"
    }
   },
   "id": "8292b55b1e2969b3",
   "execution_count": 16
  },
  {
   "cell_type": "code",
   "outputs": [],
   "source": [
    "import os\n",
    "\n",
    "json_list = []\n",
    "\n",
    "for folder, vertex_type in folders:\n",
    "    root = \"recycle-22\"\n",
    "    files_in_directory = os.listdir(f\"{root}/{folder}/images/\")\n",
    "    for file in files_in_directory:\n",
    "        vertex_dic = dict()\n",
    "        img = file\n",
    "        label_name = \".\".join(img.split(\".\")[:-1]) + \".txt\"\n",
    "        label = f\"{root}/{folder}/labels/{label_name}\"\n",
    "        \n",
    "        vertex_dic[\"imageGcsUri\"] = f\"gs://cloud-ai-platform-4f807e4a-a411-472d-8205-9769f14f21ef/cv/{img}\"\n",
    "        \n",
    "        box_annotations = []\n",
    "        with open(label, 'r') as file_label:\n",
    "            for line in file_label:\n",
    "                label_info = line.strip().split(\" \")\n",
    "                box_annotations.append(get_box_annotation(\n",
    "                    class_traductor[ int(label_info[0]) ], \n",
    "                    float(label_info[1]),\n",
    "                    float(label_info[2]),\n",
    "                    float(label_info[3]), \n",
    "                    float(label_info[4])\n",
    "            ))\n",
    "        vertex_dic[\"boundingBoxAnnotations\"] = box_annotations\n",
    "        vertex_dic[\"dataItemResourceLabels\"] = {\"aiplatform.googleapis.com/ml_use\": vertex_type}\n",
    "        \n",
    "        json_list.append(vertex_dic)\n",
    "        "
   ],
   "metadata": {
    "collapsed": false,
    "ExecuteTime": {
     "end_time": "2024-02-27T09:45:50.184533Z",
     "start_time": "2024-02-27T09:45:50.043207Z"
    }
   },
   "id": "5e06387d30adbf1f",
   "execution_count": 18
  },
  {
   "cell_type": "code",
   "outputs": [
    {
     "data": {
      "text/plain": "1499"
     },
     "execution_count": 19,
     "metadata": {},
     "output_type": "execute_result"
    }
   ],
   "source": [
    "len(json_list)"
   ],
   "metadata": {
    "collapsed": false,
    "ExecuteTime": {
     "end_time": "2024-02-27T09:45:51.579200Z",
     "start_time": "2024-02-27T09:45:51.567803Z"
    }
   },
   "id": "eea9a4fdf08f2a16",
   "execution_count": 19
  },
  {
   "cell_type": "code",
   "outputs": [],
   "source": [
    "import json\n",
    "with open(\"img_labels_recycle.jsonl\", 'w') as file:\n",
    "    for entry in json_list:\n",
    "        json_line = json.dumps(entry)\n",
    "        file.write(json_line + '\\n')"
   ],
   "metadata": {
    "collapsed": false,
    "ExecuteTime": {
     "end_time": "2024-02-27T09:45:53.456900Z",
     "start_time": "2024-02-27T09:45:53.409998Z"
    }
   },
   "id": "8da2d304a49479a3",
   "execution_count": 20
  }
 ],
 "metadata": {
  "kernelspec": {
   "display_name": "Python 3",
   "language": "python",
   "name": "python3"
  },
  "language_info": {
   "codemirror_mode": {
    "name": "ipython",
    "version": 2
   },
   "file_extension": ".py",
   "mimetype": "text/x-python",
   "name": "python",
   "nbconvert_exporter": "python",
   "pygments_lexer": "ipython2",
   "version": "2.7.6"
  }
 },
 "nbformat": 4,
 "nbformat_minor": 5
}
