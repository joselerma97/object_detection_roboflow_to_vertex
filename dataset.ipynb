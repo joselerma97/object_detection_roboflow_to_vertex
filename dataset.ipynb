{
 "cells": [
  {
   "cell_type": "code",
   "execution_count": 1,
   "id": "initial_id",
   "metadata": {
    "collapsed": true,
    "ExecuteTime": {
     "end_time": "2024-02-25T19:22:04.004283700Z",
     "start_time": "2024-02-25T19:21:28.806342300Z"
    }
   },
   "outputs": [
    {
     "name": "stdout",
     "output_type": "stream",
     "text": [
      "loading Roboflow workspace...\n",
      "loading Roboflow project...\n",
      "[WARNING] we noticed you are downloading a `yolov8` datasets but you don't have `ultralytics` installed. Roboflow `.deploy` supports only models trained with `ultralytics==8.0.196`, to intall it `pip install ultralytics==8.0.196`.\n"
     ]
    },
    {
     "name": "stderr",
     "output_type": "stream",
     "text": [
      "Downloading Dataset Version Zip in Waste_Detection-1 to yolov8:: 100%|██████████| 87986/87986 [00:04<00:00, 19168.35it/s]"
     ]
    },
    {
     "name": "stdout",
     "output_type": "stream",
     "text": []
    },
    {
     "name": "stderr",
     "output_type": "stream",
     "text": [
      "\n",
      "Extracting Dataset Version Zip to Waste_Detection-1 in yolov8:: 100%|██████████| 2958/2958 [00:02<00:00, 1313.20it/s]\n"
     ]
    }
   ],
   "source": [
    "from roboflow import Roboflow\n",
    "rf = Roboflow(api_key=\"0F7R4oSupQ5U1ctpBlrv\")\n",
    "project = rf.workspace(\"waste-ezk1f\").project(\"waste_detection-mstzc\")\n",
    "dataset = project.version(1).download(\"yolov8\")"
   ]
  },
  {
   "cell_type": "code",
   "outputs": [],
   "source": [
    "# Vertex AI https://cloud.google.com/vertex-ai/docs/image-data/object-detection/prepare-data?hl=es-419\n",
    "# Roboflow https://roboflow.com/formats/yolov8-pytorch-txt "
   ],
   "metadata": {
    "collapsed": false
   },
   "id": "a026a3749601288"
  }
 ],
 "metadata": {
  "kernelspec": {
   "display_name": "Python 3",
   "language": "python",
   "name": "python3"
  },
  "language_info": {
   "codemirror_mode": {
    "name": "ipython",
    "version": 2
   },
   "file_extension": ".py",
   "mimetype": "text/x-python",
   "name": "python",
   "nbconvert_exporter": "python",
   "pygments_lexer": "ipython2",
   "version": "2.7.6"
  }
 },
 "nbformat": 4,
 "nbformat_minor": 5
}
