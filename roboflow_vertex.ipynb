{
 "cells": [
  {
   "cell_type": "code",
   "outputs": [],
   "source": [
    "def get_box_annotation(class_name, center_x, center_y, width, height):\n",
    "    box = dict()\n",
    "    box[\"displayName\"] = class_name\n",
    "    box[\"xMin\"] = center_x - width / 2\n",
    "    box[\"xMax\"] = center_x + width / 2\n",
    "    box[\"yMin\"] = center_y - height / 2\n",
    "    box[\"yMax\"] = center_y + height / 2\n",
    "    return box"
   ],
   "metadata": {
    "collapsed": false,
    "ExecuteTime": {
     "end_time": "2024-02-25T22:25:37.830248400Z",
     "start_time": "2024-02-25T22:25:37.813969500Z"
    }
   },
   "id": "5e97c87f244d86ad",
   "execution_count": 14
  },
  {
   "cell_type": "code",
   "execution_count": 15,
   "id": "initial_id",
   "metadata": {
    "collapsed": true,
    "ExecuteTime": {
     "end_time": "2024-02-25T22:25:39.182398100Z",
     "start_time": "2024-02-25T22:25:39.155895700Z"
    }
   },
   "outputs": [],
   "source": [
    "vertex_dic = dict()"
   ]
  },
  {
   "cell_type": "code",
   "outputs": [],
   "source": [
    "img_name = \"collage_109_jpg.rf.0a96b301f643912160f8766eab834ecc.jpg\"\n",
    "vertex_dic[\"imageGcsUri\"] = f\"gs://cloud-ai-platform-4f807e4a-a411-472d-8205-9769f14f21ef/cv/{img_name}\""
   ],
   "metadata": {
    "collapsed": false,
    "ExecuteTime": {
     "end_time": "2024-02-25T22:25:40.712908400Z",
     "start_time": "2024-02-25T22:25:40.697333300Z"
    }
   },
   "id": "b1457900b785750a",
   "execution_count": 16
  },
  {
   "cell_type": "code",
   "outputs": [],
   "source": [
    "vertex_dic[\"boundingBoxAnnotations\"] = [get_box_annotation(\n",
    "    \"plastic\", 0.259375, 0.225, 0.18203125, 0.41796875\n",
    ")]"
   ],
   "metadata": {
    "collapsed": false,
    "ExecuteTime": {
     "end_time": "2024-02-25T22:25:56.976376500Z",
     "start_time": "2024-02-25T22:25:56.973057Z"
    }
   },
   "id": "4e7e532abf4ac5b4",
   "execution_count": 18
  },
  {
   "cell_type": "code",
   "outputs": [],
   "source": [
    "img_use = dict()\n",
    "img_use[\"aiplatform.googleapis.com/ml_use\"] = \"training\"\n",
    "\n",
    "vertex_dic[\"dataItemResourceLabels\"] = img_use"
   ],
   "metadata": {
    "collapsed": false,
    "ExecuteTime": {
     "end_time": "2024-02-25T22:25:58.802141500Z",
     "start_time": "2024-02-25T22:25:58.794324400Z"
    }
   },
   "id": "6ab4258da2924ee4",
   "execution_count": 19
  },
  {
   "cell_type": "code",
   "outputs": [
    {
     "data": {
      "text/plain": "{'imageGcsUri': 'gs://cloud-ai-platform-4f807e4a-a411-472d-8205-9769f14f21ef/cv/collage_109_jpg.rf.0a96b301f643912160f8766eab834ecc.jpg',\n 'boundingBoxAnnotations': [{'displayName': 'plastic',\n   'xMin': 0.16835937500000003,\n   'xMax': 0.350390625,\n   'yMin': 0.016015625000000006,\n   'yMax': 0.433984375}],\n 'dataItemResourceLabels': {'aiplatform.googleapis.com/ml_use': 'training'}}"
     },
     "execution_count": 20,
     "metadata": {},
     "output_type": "execute_result"
    }
   ],
   "source": [
    "vertex_dic"
   ],
   "metadata": {
    "collapsed": false,
    "ExecuteTime": {
     "end_time": "2024-02-25T22:26:00.393778200Z",
     "start_time": "2024-02-25T22:26:00.358235100Z"
    }
   },
   "id": "78f177d2685ec1e3",
   "execution_count": 20
  },
  {
   "cell_type": "code",
   "outputs": [],
   "source": [
    "import json\n",
    "with open(\"object.jsonl\", 'w') as file:\n",
    "    for entry in [vertex_dic]:\n",
    "        json_line = json.dumps(entry)\n",
    "        file.write(json_line + '\\n')"
   ],
   "metadata": {
    "collapsed": false,
    "ExecuteTime": {
     "end_time": "2024-02-25T22:26:02.492453Z",
     "start_time": "2024-02-25T22:26:02.477841900Z"
    }
   },
   "id": "8da2d304a49479a3",
   "execution_count": 21
  }
 ],
 "metadata": {
  "kernelspec": {
   "display_name": "Python 3",
   "language": "python",
   "name": "python3"
  },
  "language_info": {
   "codemirror_mode": {
    "name": "ipython",
    "version": 2
   },
   "file_extension": ".py",
   "mimetype": "text/x-python",
   "name": "python",
   "nbconvert_exporter": "python",
   "pygments_lexer": "ipython2",
   "version": "2.7.6"
  }
 },
 "nbformat": 4,
 "nbformat_minor": 5
}
